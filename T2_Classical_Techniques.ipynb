{
  "cells": [
    {
      "cell_type": "markdown",
      "metadata": {
        "id": "view-in-github",
        "colab_type": "text"
      },
      "source": [
        "<a href=\"https://colab.research.google.com/github/waessman/Auuxxx/blob/main/T2_Classical_Techniques.ipynb\" target=\"_parent\"><img src=\"https://colab.research.google.com/assets/colab-badge.svg\" alt=\"Open In Colab\"/></a>"
      ]
    },
    {
      "cell_type": "markdown",
      "metadata": {
        "id": "erlRBrJIUyrB"
      },
      "source": [
        "# **Task \\#2**: Machine Learning MC886/MO444\n",
        "##**Classical Machine Learning Techniques**##"
      ]
    },
    {
      "cell_type": "code",
      "execution_count": null,
      "metadata": {
        "id": "jt5Ud2EymVwL"
      },
      "outputs": [],
      "source": []
    },
    {
      "cell_type": "code",
      "execution_count": null,
      "metadata": {
        "colab": {
          "base_uri": "https://localhost:8080/"
        },
        "id": "fjNwzgz-UTLB",
        "outputId": "87dee9ba-94c8-4e76-ae6a-8879233aa460"
      },
      "outputs": [
        {
          "output_type": "stream",
          "name": "stdout",
          "text": [
            "Murilo Gomes da Silva 242233\n",
            "Gustavo Alberto de França Waessman234726\n"
          ]
        }
      ],
      "source": [
        "print('Murilo Gomes da Silva' + ' 242233')\n",
        "print('Gustavo Alberto de França Waessman' + '234726')"
      ]
    },
    {
      "cell_type": "markdown",
      "metadata": {
        "id": "B1gEHx0gU-w2"
      },
      "source": [
        "## Objective:\n",
        "\n",
        "To explore **Linear Regression** and **Logistic Regression** alternatives and come up with the best possible model for the problems, at the same time avoiding overfitting (and also underfitting). In this work, we will train a model that use medical records from patients to predict patient survival."
      ]
    },
    {
      "cell_type": "markdown",
      "metadata": {
        "id": "QkUuHD5MKhrk"
      },
      "source": [
        "## Dataset\n",
        "\n",
        "The purpose of this dataset is to predict the patients' survival from medical records. These data is available in [Google Sheets](https://docs.google.com/spreadsheets/d/18-PlYBnwD7yJoyGJOsaB5Wydc2iTG9sSnbuuV4t4efE/edit?usp=sharing), consisting in 299 patients with heart failure collected in 2015. \n",
        "\n",
        "**Data Dictionary**:\n",
        "\n",
        "- **AGE**: Age of the patient (years);\n",
        "\n",
        "- **ANAEMIA**: Decrease of red blood cells or hemoglobin (boolean);\n",
        "\n",
        "- **HIGH BLODD PRESSURE**: If the patient has hypertension (boolean);\n",
        "\n",
        "- **CREATININE PHOSPHOKINASE (CPK)**: Level of the CPK enzyme in the blood (mcg/L);\n",
        "\n",
        "- **DIABETES**: If the patient has diabetes (boolean);\n",
        "\n",
        "- **EJECTION FRACTION**: Percentage of blood leaving the heart at each contraction (percentage);\n",
        "\n",
        "- **PLATELETS**: Platelets in the blood (kiloplatelets/mL);\n",
        "\n",
        "- **SEX**: Woman or man (binary);\n",
        "\n",
        "- **SERUM CREATININE**: Level of serum creatinine in the blood (mg/dL);\n",
        "\n",
        "- **SERUM SODIUM**: Level of serum sodium in the blood (mEq/L);\n",
        "\n",
        "- **SMOKING**: If the patient smokes or not (boolean);\n",
        "\n",
        "- **DEATH EVENT**: If the patient deceased during the follow-up period (boolean);\n",
        "\n",
        "More information about the dataset: *Chicco, D., Jurman, G. Machine learning can predict survival of patients with heart failure from serum creatinine and ejection fraction alone. BMC Med Inform Decis Mak 20, 16 (2020). https://doi.org/10.1186/s12911-020-1023-5*"
      ]
    },
    {
      "cell_type": "code",
      "execution_count": null,
      "metadata": {
        "colab": {
          "base_uri": "https://localhost:8080/",
          "height": 270
        },
        "id": "anh4gw-zV2ed",
        "outputId": "626afa06-3e4c-4f63-80fe-d7734a90d071",
        "tags": []
      },
      "outputs": [
        {
          "output_type": "execute_result",
          "data": {
            "text/plain": [
              "    age anaemia  creatinine_phosphokinase diabetes  ejection_fraction  \\\n",
              "0  75.0      No                     582.0       No               20.0   \n",
              "1  55.0      No                    7861.0       No               38.0   \n",
              "2  65.0      No                     146.0       No               20.0   \n",
              "3  50.0     Yes                     111.0       No               20.0   \n",
              "4   NaN     Yes                     160.0      Yes               20.0   \n",
              "\n",
              "   high_blood_pressure  platelets  serum_creatinine  serum_sodium     sex  \\\n",
              "0                  1.0  265000.00               1.9         130.0  Female   \n",
              "1                  0.0  263358.03               1.1         136.0  Female   \n",
              "2                  0.0  162000.00               1.3         129.0  Female   \n",
              "3                  0.0  210000.00               1.9         137.0  Female   \n",
              "4                  0.0  327000.00               2.7         116.0    Male   \n",
              "\n",
              "  smoking  DEATH_EVENT  \n",
              "0      No            1  \n",
              "1      No            1  \n",
              "2     Yes            1  \n",
              "3      No            1  \n",
              "4      No            1  "
            ],
            "text/html": [
              "\n",
              "  <div id=\"df-15be5666-cdbd-4ca7-8f78-9ca3c27d0d30\">\n",
              "    <div class=\"colab-df-container\">\n",
              "      <div>\n",
              "<style scoped>\n",
              "    .dataframe tbody tr th:only-of-type {\n",
              "        vertical-align: middle;\n",
              "    }\n",
              "\n",
              "    .dataframe tbody tr th {\n",
              "        vertical-align: top;\n",
              "    }\n",
              "\n",
              "    .dataframe thead th {\n",
              "        text-align: right;\n",
              "    }\n",
              "</style>\n",
              "<table border=\"1\" class=\"dataframe\">\n",
              "  <thead>\n",
              "    <tr style=\"text-align: right;\">\n",
              "      <th></th>\n",
              "      <th>age</th>\n",
              "      <th>anaemia</th>\n",
              "      <th>creatinine_phosphokinase</th>\n",
              "      <th>diabetes</th>\n",
              "      <th>ejection_fraction</th>\n",
              "      <th>high_blood_pressure</th>\n",
              "      <th>platelets</th>\n",
              "      <th>serum_creatinine</th>\n",
              "      <th>serum_sodium</th>\n",
              "      <th>sex</th>\n",
              "      <th>smoking</th>\n",
              "      <th>DEATH_EVENT</th>\n",
              "    </tr>\n",
              "  </thead>\n",
              "  <tbody>\n",
              "    <tr>\n",
              "      <th>0</th>\n",
              "      <td>75.0</td>\n",
              "      <td>No</td>\n",
              "      <td>582.0</td>\n",
              "      <td>No</td>\n",
              "      <td>20.0</td>\n",
              "      <td>1.0</td>\n",
              "      <td>265000.00</td>\n",
              "      <td>1.9</td>\n",
              "      <td>130.0</td>\n",
              "      <td>Female</td>\n",
              "      <td>No</td>\n",
              "      <td>1</td>\n",
              "    </tr>\n",
              "    <tr>\n",
              "      <th>1</th>\n",
              "      <td>55.0</td>\n",
              "      <td>No</td>\n",
              "      <td>7861.0</td>\n",
              "      <td>No</td>\n",
              "      <td>38.0</td>\n",
              "      <td>0.0</td>\n",
              "      <td>263358.03</td>\n",
              "      <td>1.1</td>\n",
              "      <td>136.0</td>\n",
              "      <td>Female</td>\n",
              "      <td>No</td>\n",
              "      <td>1</td>\n",
              "    </tr>\n",
              "    <tr>\n",
              "      <th>2</th>\n",
              "      <td>65.0</td>\n",
              "      <td>No</td>\n",
              "      <td>146.0</td>\n",
              "      <td>No</td>\n",
              "      <td>20.0</td>\n",
              "      <td>0.0</td>\n",
              "      <td>162000.00</td>\n",
              "      <td>1.3</td>\n",
              "      <td>129.0</td>\n",
              "      <td>Female</td>\n",
              "      <td>Yes</td>\n",
              "      <td>1</td>\n",
              "    </tr>\n",
              "    <tr>\n",
              "      <th>3</th>\n",
              "      <td>50.0</td>\n",
              "      <td>Yes</td>\n",
              "      <td>111.0</td>\n",
              "      <td>No</td>\n",
              "      <td>20.0</td>\n",
              "      <td>0.0</td>\n",
              "      <td>210000.00</td>\n",
              "      <td>1.9</td>\n",
              "      <td>137.0</td>\n",
              "      <td>Female</td>\n",
              "      <td>No</td>\n",
              "      <td>1</td>\n",
              "    </tr>\n",
              "    <tr>\n",
              "      <th>4</th>\n",
              "      <td>NaN</td>\n",
              "      <td>Yes</td>\n",
              "      <td>160.0</td>\n",
              "      <td>Yes</td>\n",
              "      <td>20.0</td>\n",
              "      <td>0.0</td>\n",
              "      <td>327000.00</td>\n",
              "      <td>2.7</td>\n",
              "      <td>116.0</td>\n",
              "      <td>Male</td>\n",
              "      <td>No</td>\n",
              "      <td>1</td>\n",
              "    </tr>\n",
              "  </tbody>\n",
              "</table>\n",
              "</div>\n",
              "      <button class=\"colab-df-convert\" onclick=\"convertToInteractive('df-15be5666-cdbd-4ca7-8f78-9ca3c27d0d30')\"\n",
              "              title=\"Convert this dataframe to an interactive table.\"\n",
              "              style=\"display:none;\">\n",
              "        \n",
              "  <svg xmlns=\"http://www.w3.org/2000/svg\" height=\"24px\"viewBox=\"0 0 24 24\"\n",
              "       width=\"24px\">\n",
              "    <path d=\"M0 0h24v24H0V0z\" fill=\"none\"/>\n",
              "    <path d=\"M18.56 5.44l.94 2.06.94-2.06 2.06-.94-2.06-.94-.94-2.06-.94 2.06-2.06.94zm-11 1L8.5 8.5l.94-2.06 2.06-.94-2.06-.94L8.5 2.5l-.94 2.06-2.06.94zm10 10l.94 2.06.94-2.06 2.06-.94-2.06-.94-.94-2.06-.94 2.06-2.06.94z\"/><path d=\"M17.41 7.96l-1.37-1.37c-.4-.4-.92-.59-1.43-.59-.52 0-1.04.2-1.43.59L10.3 9.45l-7.72 7.72c-.78.78-.78 2.05 0 2.83L4 21.41c.39.39.9.59 1.41.59.51 0 1.02-.2 1.41-.59l7.78-7.78 2.81-2.81c.8-.78.8-2.07 0-2.86zM5.41 20L4 18.59l7.72-7.72 1.47 1.35L5.41 20z\"/>\n",
              "  </svg>\n",
              "      </button>\n",
              "      \n",
              "  <style>\n",
              "    .colab-df-container {\n",
              "      display:flex;\n",
              "      flex-wrap:wrap;\n",
              "      gap: 12px;\n",
              "    }\n",
              "\n",
              "    .colab-df-convert {\n",
              "      background-color: #E8F0FE;\n",
              "      border: none;\n",
              "      border-radius: 50%;\n",
              "      cursor: pointer;\n",
              "      display: none;\n",
              "      fill: #1967D2;\n",
              "      height: 32px;\n",
              "      padding: 0 0 0 0;\n",
              "      width: 32px;\n",
              "    }\n",
              "\n",
              "    .colab-df-convert:hover {\n",
              "      background-color: #E2EBFA;\n",
              "      box-shadow: 0px 1px 2px rgba(60, 64, 67, 0.3), 0px 1px 3px 1px rgba(60, 64, 67, 0.15);\n",
              "      fill: #174EA6;\n",
              "    }\n",
              "\n",
              "    [theme=dark] .colab-df-convert {\n",
              "      background-color: #3B4455;\n",
              "      fill: #D2E3FC;\n",
              "    }\n",
              "\n",
              "    [theme=dark] .colab-df-convert:hover {\n",
              "      background-color: #434B5C;\n",
              "      box-shadow: 0px 1px 3px 1px rgba(0, 0, 0, 0.15);\n",
              "      filter: drop-shadow(0px 1px 2px rgba(0, 0, 0, 0.3));\n",
              "      fill: #FFFFFF;\n",
              "    }\n",
              "  </style>\n",
              "\n",
              "      <script>\n",
              "        const buttonEl =\n",
              "          document.querySelector('#df-15be5666-cdbd-4ca7-8f78-9ca3c27d0d30 button.colab-df-convert');\n",
              "        buttonEl.style.display =\n",
              "          google.colab.kernel.accessAllowed ? 'block' : 'none';\n",
              "\n",
              "        async function convertToInteractive(key) {\n",
              "          const element = document.querySelector('#df-15be5666-cdbd-4ca7-8f78-9ca3c27d0d30');\n",
              "          const dataTable =\n",
              "            await google.colab.kernel.invokeFunction('convertToInteractive',\n",
              "                                                     [key], {});\n",
              "          if (!dataTable) return;\n",
              "\n",
              "          const docLinkHtml = 'Like what you see? Visit the ' +\n",
              "            '<a target=\"_blank\" href=https://colab.research.google.com/notebooks/data_table.ipynb>data table notebook</a>'\n",
              "            + ' to learn more about interactive tables.';\n",
              "          element.innerHTML = '';\n",
              "          dataTable['output_type'] = 'display_data';\n",
              "          await google.colab.output.renderOutput(dataTable, element);\n",
              "          const docLink = document.createElement('div');\n",
              "          docLink.innerHTML = docLinkHtml;\n",
              "          element.appendChild(docLink);\n",
              "        }\n",
              "      </script>\n",
              "    </div>\n",
              "  </div>\n",
              "  "
            ]
          },
          "metadata": {},
          "execution_count": 21
        }
      ],
      "source": [
        "import numpy as np\n",
        "import pandas as pd\n",
        "import seaborn as sns\n",
        "import plotly.express as px\n",
        "import matplotlib.pyplot as plt\n",
        "\n",
        "df = pd.read_csv('heart_dataset.csv')\n",
        "\n",
        "\n",
        "\n",
        "\n",
        "df.head(5)"
      ]
    },
    {
      "cell_type": "markdown",
      "metadata": {
        "id": "NQmaNgdX7L8O"
      },
      "source": [
        "### Analysis\n"
      ]
    },
    {
      "cell_type": "markdown",
      "metadata": {
        "id": "TL0r1lFVO6Yd"
      },
      "source": [
        "(0.5 points) This part of the assignmente aims to analyze the dataset and preprocess the data for the models. To do so, a fews things to be considered: \n",
        "\n",
        "\n",
        "*   Are there any outliers?\n",
        "*   Are there missing values?\n",
        "*   How will you handle categorical variables?"
      ]
    },
    {
      "cell_type": "code",
      "execution_count": null,
      "metadata": {
        "id": "Eq8csCfFEDyS",
        "colab": {
          "base_uri": "https://localhost:8080/",
          "height": 270
        },
        "outputId": "b0512b8e-809a-4b45-d58f-b9a3a1becf1b"
      },
      "outputs": [
        {
          "output_type": "execute_result",
          "data": {
            "text/plain": [
              "         age  anaemia  creatinine_phosphokinase  diabetes  ejection_fraction  \\\n",
              "0  75.000000        0                     582.0         0               20.0   \n",
              "1  55.000000        0                    7861.0         0               38.0   \n",
              "2  65.000000        0                     146.0         0               20.0   \n",
              "3  50.000000        1                     111.0         0               20.0   \n",
              "4  60.946895        1                     160.0         1               20.0   \n",
              "\n",
              "   high_blood_pressure  platelets  serum_creatinine  serum_sodium  sex  \\\n",
              "0                  1.0  265000.00               1.9         130.0    0   \n",
              "1                  0.0  263358.03               1.1         136.0    0   \n",
              "2                  0.0  162000.00               1.3         129.0    0   \n",
              "3                  0.0  210000.00               1.9         137.0    0   \n",
              "4                  0.0  327000.00               2.7         116.0    1   \n",
              "\n",
              "   smoking  DEATH_EVENT  \n",
              "0        0            1  \n",
              "1        0            1  \n",
              "2        1            1  \n",
              "3        0            1  \n",
              "4        0            1  "
            ],
            "text/html": [
              "\n",
              "  <div id=\"df-49f34914-07e9-48ec-92f3-eb1aa6788e1e\">\n",
              "    <div class=\"colab-df-container\">\n",
              "      <div>\n",
              "<style scoped>\n",
              "    .dataframe tbody tr th:only-of-type {\n",
              "        vertical-align: middle;\n",
              "    }\n",
              "\n",
              "    .dataframe tbody tr th {\n",
              "        vertical-align: top;\n",
              "    }\n",
              "\n",
              "    .dataframe thead th {\n",
              "        text-align: right;\n",
              "    }\n",
              "</style>\n",
              "<table border=\"1\" class=\"dataframe\">\n",
              "  <thead>\n",
              "    <tr style=\"text-align: right;\">\n",
              "      <th></th>\n",
              "      <th>age</th>\n",
              "      <th>anaemia</th>\n",
              "      <th>creatinine_phosphokinase</th>\n",
              "      <th>diabetes</th>\n",
              "      <th>ejection_fraction</th>\n",
              "      <th>high_blood_pressure</th>\n",
              "      <th>platelets</th>\n",
              "      <th>serum_creatinine</th>\n",
              "      <th>serum_sodium</th>\n",
              "      <th>sex</th>\n",
              "      <th>smoking</th>\n",
              "      <th>DEATH_EVENT</th>\n",
              "    </tr>\n",
              "  </thead>\n",
              "  <tbody>\n",
              "    <tr>\n",
              "      <th>0</th>\n",
              "      <td>75.000000</td>\n",
              "      <td>0</td>\n",
              "      <td>582.0</td>\n",
              "      <td>0</td>\n",
              "      <td>20.0</td>\n",
              "      <td>1.0</td>\n",
              "      <td>265000.00</td>\n",
              "      <td>1.9</td>\n",
              "      <td>130.0</td>\n",
              "      <td>0</td>\n",
              "      <td>0</td>\n",
              "      <td>1</td>\n",
              "    </tr>\n",
              "    <tr>\n",
              "      <th>1</th>\n",
              "      <td>55.000000</td>\n",
              "      <td>0</td>\n",
              "      <td>7861.0</td>\n",
              "      <td>0</td>\n",
              "      <td>38.0</td>\n",
              "      <td>0.0</td>\n",
              "      <td>263358.03</td>\n",
              "      <td>1.1</td>\n",
              "      <td>136.0</td>\n",
              "      <td>0</td>\n",
              "      <td>0</td>\n",
              "      <td>1</td>\n",
              "    </tr>\n",
              "    <tr>\n",
              "      <th>2</th>\n",
              "      <td>65.000000</td>\n",
              "      <td>0</td>\n",
              "      <td>146.0</td>\n",
              "      <td>0</td>\n",
              "      <td>20.0</td>\n",
              "      <td>0.0</td>\n",
              "      <td>162000.00</td>\n",
              "      <td>1.3</td>\n",
              "      <td>129.0</td>\n",
              "      <td>0</td>\n",
              "      <td>1</td>\n",
              "      <td>1</td>\n",
              "    </tr>\n",
              "    <tr>\n",
              "      <th>3</th>\n",
              "      <td>50.000000</td>\n",
              "      <td>1</td>\n",
              "      <td>111.0</td>\n",
              "      <td>0</td>\n",
              "      <td>20.0</td>\n",
              "      <td>0.0</td>\n",
              "      <td>210000.00</td>\n",
              "      <td>1.9</td>\n",
              "      <td>137.0</td>\n",
              "      <td>0</td>\n",
              "      <td>0</td>\n",
              "      <td>1</td>\n",
              "    </tr>\n",
              "    <tr>\n",
              "      <th>4</th>\n",
              "      <td>60.946895</td>\n",
              "      <td>1</td>\n",
              "      <td>160.0</td>\n",
              "      <td>1</td>\n",
              "      <td>20.0</td>\n",
              "      <td>0.0</td>\n",
              "      <td>327000.00</td>\n",
              "      <td>2.7</td>\n",
              "      <td>116.0</td>\n",
              "      <td>1</td>\n",
              "      <td>0</td>\n",
              "      <td>1</td>\n",
              "    </tr>\n",
              "  </tbody>\n",
              "</table>\n",
              "</div>\n",
              "      <button class=\"colab-df-convert\" onclick=\"convertToInteractive('df-49f34914-07e9-48ec-92f3-eb1aa6788e1e')\"\n",
              "              title=\"Convert this dataframe to an interactive table.\"\n",
              "              style=\"display:none;\">\n",
              "        \n",
              "  <svg xmlns=\"http://www.w3.org/2000/svg\" height=\"24px\"viewBox=\"0 0 24 24\"\n",
              "       width=\"24px\">\n",
              "    <path d=\"M0 0h24v24H0V0z\" fill=\"none\"/>\n",
              "    <path d=\"M18.56 5.44l.94 2.06.94-2.06 2.06-.94-2.06-.94-.94-2.06-.94 2.06-2.06.94zm-11 1L8.5 8.5l.94-2.06 2.06-.94-2.06-.94L8.5 2.5l-.94 2.06-2.06.94zm10 10l.94 2.06.94-2.06 2.06-.94-2.06-.94-.94-2.06-.94 2.06-2.06.94z\"/><path d=\"M17.41 7.96l-1.37-1.37c-.4-.4-.92-.59-1.43-.59-.52 0-1.04.2-1.43.59L10.3 9.45l-7.72 7.72c-.78.78-.78 2.05 0 2.83L4 21.41c.39.39.9.59 1.41.59.51 0 1.02-.2 1.41-.59l7.78-7.78 2.81-2.81c.8-.78.8-2.07 0-2.86zM5.41 20L4 18.59l7.72-7.72 1.47 1.35L5.41 20z\"/>\n",
              "  </svg>\n",
              "      </button>\n",
              "      \n",
              "  <style>\n",
              "    .colab-df-container {\n",
              "      display:flex;\n",
              "      flex-wrap:wrap;\n",
              "      gap: 12px;\n",
              "    }\n",
              "\n",
              "    .colab-df-convert {\n",
              "      background-color: #E8F0FE;\n",
              "      border: none;\n",
              "      border-radius: 50%;\n",
              "      cursor: pointer;\n",
              "      display: none;\n",
              "      fill: #1967D2;\n",
              "      height: 32px;\n",
              "      padding: 0 0 0 0;\n",
              "      width: 32px;\n",
              "    }\n",
              "\n",
              "    .colab-df-convert:hover {\n",
              "      background-color: #E2EBFA;\n",
              "      box-shadow: 0px 1px 2px rgba(60, 64, 67, 0.3), 0px 1px 3px 1px rgba(60, 64, 67, 0.15);\n",
              "      fill: #174EA6;\n",
              "    }\n",
              "\n",
              "    [theme=dark] .colab-df-convert {\n",
              "      background-color: #3B4455;\n",
              "      fill: #D2E3FC;\n",
              "    }\n",
              "\n",
              "    [theme=dark] .colab-df-convert:hover {\n",
              "      background-color: #434B5C;\n",
              "      box-shadow: 0px 1px 3px 1px rgba(0, 0, 0, 0.15);\n",
              "      filter: drop-shadow(0px 1px 2px rgba(0, 0, 0, 0.3));\n",
              "      fill: #FFFFFF;\n",
              "    }\n",
              "  </style>\n",
              "\n",
              "      <script>\n",
              "        const buttonEl =\n",
              "          document.querySelector('#df-49f34914-07e9-48ec-92f3-eb1aa6788e1e button.colab-df-convert');\n",
              "        buttonEl.style.display =\n",
              "          google.colab.kernel.accessAllowed ? 'block' : 'none';\n",
              "\n",
              "        async function convertToInteractive(key) {\n",
              "          const element = document.querySelector('#df-49f34914-07e9-48ec-92f3-eb1aa6788e1e');\n",
              "          const dataTable =\n",
              "            await google.colab.kernel.invokeFunction('convertToInteractive',\n",
              "                                                     [key], {});\n",
              "          if (!dataTable) return;\n",
              "\n",
              "          const docLinkHtml = 'Like what you see? Visit the ' +\n",
              "            '<a target=\"_blank\" href=https://colab.research.google.com/notebooks/data_table.ipynb>data table notebook</a>'\n",
              "            + ' to learn more about interactive tables.';\n",
              "          element.innerHTML = '';\n",
              "          dataTable['output_type'] = 'display_data';\n",
              "          await google.colab.output.renderOutput(dataTable, element);\n",
              "          const docLink = document.createElement('div');\n",
              "          docLink.innerHTML = docLinkHtml;\n",
              "          element.appendChild(docLink);\n",
              "        }\n",
              "      </script>\n",
              "    </div>\n",
              "  </div>\n",
              "  "
            ]
          },
          "metadata": {},
          "execution_count": 28
        }
      ],
      "source": [
        "# TODO: Preprocessing Dataset.\n",
        "\n",
        "import numpy as np\n",
        "import pandas as pd\n",
        "import seaborn as sns\n",
        "import plotly.express as px\n",
        "import matplotlib.pyplot as plt\n",
        "    \n",
        "\n",
        "df = pd.read_csv('heart_dataset.csv', converters = {\"anaemia\" : (lambda x : 0 if x == \"No\" else 1),\"diabetes\": (lambda x : 0 if x == \"No\" else 1), \"sex\" : (lambda x : 0 if x == \"Female\" else 1), \"smoking\": (lambda x : 0 if x == \"No\" else 1) }, na_values=\"NA\")\n",
        "df.fillna(df.mean(), inplace=True)\n",
        "df.head(5)"
      ]
    },
    {
      "cell_type": "markdown",
      "metadata": {
        "id": "_Z-o2l0xEom-"
      },
      "source": [
        "## Linear Regression"
      ]
    },
    {
      "cell_type": "markdown",
      "metadata": {
        "id": "FtWOiVbUW4T5"
      },
      "source": [
        "(0.75 points) This part of the assigment aims to predict the level of serum creatinine in the blod based on their medical records. \n",
        "\n",
        "*   Do we need to split the data into train, valid and test? How?\n",
        "*   Do we need to normalize the data? How? The normalization is equal to train, valid and test split?\n",
        "* **Target value: serum_creatinine**.\n",
        "\n",
        "Obs: drop the DEATH_EVENT column."
      ]
    },
    {
      "cell_type": "code",
      "execution_count": null,
      "metadata": {
        "id": "3JQo-C4DXq22",
        "outputId": "85f1beda-e8a8-416e-ef98-a9bfbea83b81"
      },
      "outputs": [
        {
          "data": {
            "text/html": [
              "<div>\n",
              "<style scoped>\n",
              "    .dataframe tbody tr th:only-of-type {\n",
              "        vertical-align: middle;\n",
              "    }\n",
              "\n",
              "    .dataframe tbody tr th {\n",
              "        vertical-align: top;\n",
              "    }\n",
              "\n",
              "    .dataframe thead th {\n",
              "        text-align: right;\n",
              "    }\n",
              "</style>\n",
              "<table border=\"1\" class=\"dataframe\">\n",
              "  <thead>\n",
              "    <tr style=\"text-align: right;\">\n",
              "      <th></th>\n",
              "      <th>age</th>\n",
              "      <th>anaemia</th>\n",
              "      <th>creatinine_phosphokinase</th>\n",
              "      <th>diabetes</th>\n",
              "      <th>ejection_fraction</th>\n",
              "      <th>high_blood_pressure</th>\n",
              "      <th>platelets</th>\n",
              "      <th>serum_sodium</th>\n",
              "      <th>sex</th>\n",
              "      <th>smoking</th>\n",
              "    </tr>\n",
              "  </thead>\n",
              "  <tbody>\n",
              "    <tr>\n",
              "      <th>154</th>\n",
              "      <td>65.0</td>\n",
              "      <td>1</td>\n",
              "      <td>335.0</td>\n",
              "      <td>0</td>\n",
              "      <td>35.0</td>\n",
              "      <td>1.0</td>\n",
              "      <td>235000.0</td>\n",
              "      <td>136.0</td>\n",
              "      <td>1</td>\n",
              "      <td>0</td>\n",
              "    </tr>\n",
              "    <tr>\n",
              "      <th>42</th>\n",
              "      <td>70.0</td>\n",
              "      <td>0</td>\n",
              "      <td>571.0</td>\n",
              "      <td>1</td>\n",
              "      <td>45.0</td>\n",
              "      <td>1.0</td>\n",
              "      <td>185000.0</td>\n",
              "      <td>139.0</td>\n",
              "      <td>0</td>\n",
              "      <td>1</td>\n",
              "    </tr>\n",
              "    <tr>\n",
              "      <th>9</th>\n",
              "      <td>80.0</td>\n",
              "      <td>1</td>\n",
              "      <td>123.0</td>\n",
              "      <td>0</td>\n",
              "      <td>35.0</td>\n",
              "      <td>1.0</td>\n",
              "      <td>388000.0</td>\n",
              "      <td>133.0</td>\n",
              "      <td>0</td>\n",
              "      <td>1</td>\n",
              "    </tr>\n",
              "    <tr>\n",
              "      <th>108</th>\n",
              "      <td>63.0</td>\n",
              "      <td>0</td>\n",
              "      <td>936.0</td>\n",
              "      <td>0</td>\n",
              "      <td>38.0</td>\n",
              "      <td>0.0</td>\n",
              "      <td>304000.0</td>\n",
              "      <td>133.0</td>\n",
              "      <td>0</td>\n",
              "      <td>1</td>\n",
              "    </tr>\n",
              "    <tr>\n",
              "      <th>111</th>\n",
              "      <td>55.0</td>\n",
              "      <td>0</td>\n",
              "      <td>60.0</td>\n",
              "      <td>0</td>\n",
              "      <td>35.0</td>\n",
              "      <td>0.0</td>\n",
              "      <td>228000.0</td>\n",
              "      <td>135.0</td>\n",
              "      <td>0</td>\n",
              "      <td>1</td>\n",
              "    </tr>\n",
              "  </tbody>\n",
              "</table>\n",
              "</div>"
            ],
            "text/plain": [
              "      age  anaemia  creatinine_phosphokinase  diabetes  ejection_fraction   \n",
              "154  65.0        1                     335.0         0               35.0  \\\n",
              "42   70.0        0                     571.0         1               45.0   \n",
              "9    80.0        1                     123.0         0               35.0   \n",
              "108  63.0        0                     936.0         0               38.0   \n",
              "111  55.0        0                      60.0         0               35.0   \n",
              "\n",
              "     high_blood_pressure  platelets  serum_sodium  sex  smoking  \n",
              "154                  1.0   235000.0         136.0    1        0  \n",
              "42                   1.0   185000.0         139.0    0        1  \n",
              "9                    1.0   388000.0         133.0    0        1  \n",
              "108                  0.0   304000.0         133.0    0        1  \n",
              "111                  0.0   228000.0         135.0    0        1  "
            ]
          },
          "execution_count": 11,
          "metadata": {},
          "output_type": "execute_result"
        }
      ],
      "source": [
        "# TODO: Split data and normalize. You can use scikit-learn libraries.\n",
        "from sklearn.model_selection import train_test_split\n",
        "\n",
        "X = df.drop(columns = [\"serum_creatinine\", \"DEATH_EVENT\"]) #Separando dados de entrada(pontos)\n",
        "y = df.filter(items = [\"serum_creatinine\"]) #Separando labels de cada ponto\n",
        "\n",
        "X_train, X_testVal, y_train, y_testVal = train_test_split(X, y, test_size = 0.3, random_state = 42)#Separando a entrada entre treinamento e \"teste e validação\"(juntos)\n",
        "\n",
        "X_val, X_test, y_val, y_test = train_test_split(X_testVal, y_testVal, test_size = 0.5, random_state = 42)#Separando \"teste e validação\" em dois conjuntos distintos"
      ]
    },
    {
      "cell_type": "markdown",
      "metadata": {
        "id": "LvrGLGqVXv8q"
      },
      "source": [
        "### Activities"
      ]
    },
    {
      "cell_type": "markdown",
      "metadata": {
        "id": "os7TMYsiYaDv"
      },
      "source": [
        "1. (0.5 points) Verify if there is any feature that has low correlation with the target variables. You can use the function [mutual_info_regression](https://scikit-learn.org/stable/modules/generated/sklearn.feature_selection.mutual_info_regression.html) to check the importance of each feature. \n",
        "\n",
        "> *   Do we need all the features to predict the target value?\n",
        "> *   What happens if we drop the low correlation features?"
      ]
    },
    {
      "cell_type": "code",
      "execution_count": null,
      "metadata": {
        "id": "BMyo_8gvEpuK"
      },
      "outputs": [],
      "source": [
        "from sklearn.feature_selection import mutual_info_regression\n",
        "\n",
        "# TODO: Feature selection.\n",
        "#correlations = mutual_info_regression(df, );"
      ]
    },
    {
      "cell_type": "markdown",
      "metadata": {
        "id": "DX3PMBcOazAy"
      },
      "source": [
        "> What are the conclusions? (1-2 paragraphs)"
      ]
    },
    {
      "cell_type": "markdown",
      "metadata": {
        "id": "jVGywzmSZxr7"
      },
      "source": [
        "2. (2.0 points) Perform Linear Regression. You should implement your solution and compare it with ```sklearn.linear_model.SGDRegressor``` (linear model fitted by minimizing a regularized empirical loss with SGD, http://scikit-learn.org)."
      ]
    },
    {
      "cell_type": "code",
      "execution_count": null,
      "metadata": {
        "id": "Oq4uQfV9G25g",
        "tags": [],
        "colab": {
          "base_uri": "https://localhost:8080/"
        },
        "outputId": "64febd28-4457-4776-a6c3-59452b4ffd46"
      },
      "outputs": [
        {
          "output_type": "stream",
          "name": "stdout",
          "text": [
            "31.25\n"
          ]
        }
      ],
      "source": [
        "## TODO: MSE Loss. You cannot use scikit-learn!!\n",
        "def MSE(Y, X, w, n):\n",
        "  sum = 0\n",
        "  for i in range(n):\n",
        "    pred = 0;\n",
        "    for j in range(len(X[i])):\n",
        "        pred += X[i][j]*w[j];\n",
        "    sum += (Y[i] - pred)**2;\n",
        "  mse = sum/n;\n",
        "  return mse;\n",
        "Y_true = [12.5, 12.5, 1.5, 10.5];\n",
        "X = [[2.5, 0, 2, 8], [2.5, 0, 2, 8], [2.5, 0, 2, 8], [2.5, 0, 2, 8]];\n",
        "w = [1, 1, 1, 1];\n",
        "n = 4;\n",
        "\n",
        "print(MSE(Y_true, X, w, n));"
      ]
    },
    {
      "cell_type": "code",
      "execution_count": null,
      "metadata": {
        "id": "qK67IAeJGVRm"
      },
      "outputs": [],
      "source": [
        "# TODO: Linear Regression. Implement yout solution. You cannot use scikit-learn, Keras/TensorFlow, or PyTorch libraries!!\n",
        "class LinearRegression():\n",
        "  def __init__(self, learning_rate=-1, max_iter=-1):\n",
        "    self.max_iter         = max_iter\n",
        "    self.learning_rate    = learning_rate\n",
        "    self.weights          = None\n",
        "    self.bias             = None\n",
        "\n",
        "  def predict(self, X): #Provisório, pode estar tudo errado\n",
        "    n = len(X);\n",
        "    Y = [];\n",
        "    for i in range(n):\n",
        "        yi = self.bias;\n",
        "        for j in len(X[i]):\n",
        "            yi += X[i][j]*self.weights[j];\n",
        "        Y.append(yi);\n",
        "    return Y;\n",
        "\n",
        "  def fit(self, X, y):\n",
        "    return None"
      ]
    },
    {
      "cell_type": "code",
      "execution_count": null,
      "metadata": {
        "id": "AzPTyI1EG9hY"
      },
      "outputs": [],
      "source": [
        "# TODO: Linear Regression. You can use scikit-learn libraries.\n",
        "from sklearn.linear_model import SGDRegressor"
      ]
    },
    {
      "cell_type": "markdown",
      "metadata": {
        "id": "DXTk6P4MbbnH"
      },
      "source": [
        "> What are the conclusions? (1-2 paragraphs)"
      ]
    },
    {
      "cell_type": "markdown",
      "metadata": {
        "id": "Dx-ZsOBzg70n"
      },
      "source": [
        "3. (0.5 points) Plot the cost function vs. number of epochs in the training/validation set and analyze the model. "
      ]
    },
    {
      "cell_type": "code",
      "execution_count": null,
      "metadata": {
        "id": "oQrJx9YshBqX"
      },
      "outputs": [],
      "source": [
        "# TODO: Plot the cost function vs. number of iterations in the training set."
      ]
    },
    {
      "cell_type": "markdown",
      "metadata": {
        "id": "Vb1CVeLxhEyF"
      },
      "source": [
        "> What are the conclusions? (1-2 paragraphs)"
      ]
    },
    {
      "cell_type": "markdown",
      "metadata": {
        "id": "XGvnz52Aa-7B"
      },
      "source": [
        "4. (0.75 points) Use different learning rates when optimizing the model. You can use the model that you implemented or the model from scikit-learn.\n",
        "\n",
        "> If you prefer to use the SGDRegressor from scikit-learn, use the parameter ```learning_rate='constant'``` and change the ```eta0```."
      ]
    },
    {
      "cell_type": "code",
      "execution_count": null,
      "metadata": {
        "id": "dBaZ-WKPHCp1"
      },
      "outputs": [],
      "source": [
        "# TODO: Different learning rates. You can use scikit-learn libraries."
      ]
    },
    {
      "cell_type": "markdown",
      "metadata": {
        "id": "mwZIA0Tucpe0"
      },
      "source": [
        "> What are the conclusions? (1-2 paragraphs)"
      ]
    },
    {
      "cell_type": "markdown",
      "metadata": {
        "id": "QSeBs0gycPpW"
      },
      "source": [
        "5. (0.5 points) Sometimes, we need some more complex function to make good prediction. Evaluate a [Polynomial Linear Regression](https://scikit-learn.org/stable/modules/generated/sklearn.preprocessing.PolynomialFeatures.html) model. "
      ]
    },
    {
      "cell_type": "code",
      "execution_count": null,
      "metadata": {
        "id": "7qS_AG9fcM0O"
      },
      "outputs": [],
      "source": [
        "# TODO: Complex model. You can use scikit-learn libraries."
      ]
    },
    {
      "cell_type": "markdown",
      "metadata": {
        "id": "PSJSICf7cqaH"
      },
      "source": [
        "> What are the conclusions? (1-2 paragraphs)"
      ]
    },
    {
      "cell_type": "markdown",
      "metadata": {
        "id": "ZCpz412ac6X7"
      },
      "source": [
        "6. (0.5 points) Pick **your best model**, based on your validation set, and predict the target values for the test set."
      ]
    },
    {
      "cell_type": "code",
      "execution_count": null,
      "metadata": {
        "id": "qRUE-ElIc5pl"
      },
      "outputs": [],
      "source": [
        "# TODO: Plot the true label and the predict label"
      ]
    },
    {
      "cell_type": "markdown",
      "metadata": {
        "id": "q1wu27uZdigS"
      },
      "source": [
        "## Logistic Regression"
      ]
    },
    {
      "cell_type": "markdown",
      "metadata": {
        "id": "rbmfqspmdosV"
      },
      "source": [
        "This part of the assigment aims to predict the patients survival based on their medical records. \n",
        "\n",
        "*   Do we need to split the data into train, valid and test? How?\n",
        "*   Do we need to normalize the data? How? The normalization is equal to train, valid and test split?\n",
        "* **Target value: DEATH EVENT**."
      ]
    },
    {
      "cell_type": "markdown",
      "metadata": {
        "id": "kQjs5xhmgDV-"
      },
      "source": [
        "1. (0.5 points) Verify if there is any feature that has low correlation with the target variables. You can use the function [mutual_info_classification](https://scikit-learn.org/stable/modules/generated/sklearn.feature_selection.mutual_info_classif.html) to check the importance of each feature."
      ]
    },
    {
      "cell_type": "code",
      "execution_count": null,
      "metadata": {
        "id": "AXwPiduYdmla",
        "colab": {
          "base_uri": "https://localhost:8080/"
        },
        "outputId": "791ad8a7-a044-44e1-b993-7762a3e7b211"
      },
      "outputs": [
        {
          "output_type": "stream",
          "name": "stdout",
          "text": [
            "age 0.04753853618448023\n",
            "anaemia 0.02778792257235363\n",
            "creatinine_phosphokinase 0.02935217886263164\n",
            "diabetes 0.0\n",
            "ejection_fraction 0.08284669172310943\n",
            "high_blood_pressure 0.0\n",
            "platelets 0.0\n",
            "serum_creatinine 0.08433619382289814\n",
            "serum_sodium 0.004333522767374198\n",
            "sex 0.013245388303771755\n",
            "smoking 0.0\n"
          ]
        }
      ],
      "source": [
        "from sklearn.feature_selection import mutual_info_classif\n",
        "\n",
        "df = pd.read_csv('heart_dataset.csv', converters = {\"anaemia\" : (lambda x : 0 if x == \"No\" else 1),\"diabetes\": (lambda x : 0 if x == \"No\" else 1), \"sex\" : (lambda x : 0 if x == \"Female\" else 1), \"smoking\": (lambda x : 0 if x == \"No\" else 1) }, na_values=\"NA\")\n",
        "df.fillna(df.mean(), inplace=True)\n",
        "df.head(5)\n",
        "\n",
        "X = df.drop('DEATH_EVENT', axis=1)\n",
        "y = df['DEATH_EVENT']\n",
        "\n",
        "importancia = mutual_info_classif(X, y)\n",
        "\n",
        "for feature, score in zip(X.columns, importancia):\n",
        "    print(feature, score)\n",
        "\n"
      ]
    },
    {
      "cell_type": "markdown",
      "metadata": {
        "id": "dLLg2Np1jVTh"
      },
      "source": [
        "> What are the conclusions? (1-2 paragraphs)"
      ]
    },
    {
      "cell_type": "markdown",
      "source": [
        "Rodando o teste algumas vezes (Com sementes diferentes para a aleatoriedade), pode-se notar que algumas features como \"diabetes, sex, platelets e smoking\" sempre tiveram um valor muito próximo de 0.0 (O mesmo teste foi feito usando um scaler para normalizar os dados, e os resultados foram análogos), portanto,  podem ser candidatas a ser removidas da análise de modo geral, sem muita perda de precisão caso seja necessário."
      ],
      "metadata": {
        "id": "y3l0AXV-AGVt"
      }
    },
    {
      "cell_type": "markdown",
      "metadata": {
        "id": "7gvvAB4WgWbK"
      },
      "source": [
        "2. (2 points) Perform Multinomial Logistic Regression."
      ]
    },
    {
      "cell_type": "code",
      "execution_count": null,
      "metadata": {
        "id": "C8DCclQ1ghBl",
        "colab": {
          "base_uri": "https://localhost:8080/"
        },
        "outputId": "141a7d16-b329-49dc-b631-cbc3422be994"
      },
      "outputs": [
        {
          "output_type": "stream",
          "name": "stdout",
          "text": [
            "              precision    recall  f1-score   support\n",
            "\n",
            "           0       0.67      0.91      0.77        53\n",
            "           1       0.72      0.35      0.47        37\n",
            "\n",
            "    accuracy                           0.68        90\n",
            "   macro avg       0.69      0.63      0.62        90\n",
            "weighted avg       0.69      0.68      0.65        90\n",
            "\n"
          ]
        }
      ],
      "source": [
        "# TODO: Logistic Regression. You can use scikit-learn libraries.\n",
        "\n",
        "from sklearn.linear_model import LogisticRegression\n",
        "from sklearn.preprocessing import StandardScaler\n",
        "from sklearn.model_selection import train_test_split\n",
        "from sklearn.metrics import classification_report\n",
        "\n",
        "\n",
        "X_train, X_test, y_train, y_test = train_test_split(X, y, test_size=0.3, random_state=42)\n",
        "\n",
        "scaler = StandardScaler()\n",
        "X_train = scaler.fit_transform(X_train)\n",
        "X_test = scaler.transform(X_test)\n",
        "\n",
        "model = LogisticRegression(multi_class='multinomial')\n",
        "model.fit(X_train, y_train)\n",
        "\n",
        "y_pred = model.predict(X_test)\n",
        "  \n",
        "print(classification_report(y_test, y_pred))\n"
      ]
    },
    {
      "cell_type": "markdown",
      "metadata": {
        "id": "6xdkr3A1jTzC"
      },
      "source": [
        "> What are the conclusions? (1-2 paragraphs)\n",
        "\n",
        "De modo geral, o modelo apresentou resultados não muito satisfatórios, pode-se supor que tenha acontecido algo como overfitting no conjunto de treinamento.\n",
        "\n",
        "Pelo resultado baixo do recall na classe 1, o modelo está com muita dificuldade em identificar exemplos da classe positiva, ele tem uma tendência a classificar tudo como negativo, o que pode estar ocorrendo, devido ao conjunto de dados possuir mais resultados classe 0 do que classe 1."
      ]
    },
    {
      "cell_type": "markdown",
      "metadata": {
        "id": "TJ_34cx1hd6J"
      },
      "source": [
        "3. (1.5 points) Another factor that can alter the model result it's if the dataset is balanced:\n",
        "\n",
        "*   The dataset is balanced ?\n",
        "*   In this case, which technique is better: *oversampling* or *undersampling*?\n",
        "\n",
        "Obs: You can use [RandomOverSampling](https://imbalanced-learn.org/stable/references/generated/imblearn.over_sampling.RandomOverSampler.html) and [RandomUnderSampling](https://imbalanced-learn.org/stable/references/generated/imblearn.under_sampling.RandomUnderSampler.html#imblearn.under_sampling.RandomUnderSampler). But you can try others techniques."
      ]
    },
    {
      "cell_type": "code",
      "execution_count": null,
      "metadata": {
        "id": "CiFVP2Zrgyxc",
        "colab": {
          "base_uri": "https://localhost:8080/"
        },
        "outputId": "3d54329c-4d6a-42fc-d876-f8703754c242"
      },
      "outputs": [
        {
          "output_type": "stream",
          "name": "stdout",
          "text": [
            "              precision    recall  f1-score   support\n",
            "\n",
            "           0       0.71      0.79      0.75        57\n",
            "           1       0.80      0.72      0.76        65\n",
            "\n",
            "    accuracy                           0.75       122\n",
            "   macro avg       0.76      0.76      0.75       122\n",
            "weighted avg       0.76      0.75      0.75       122\n",
            "\n"
          ]
        }
      ],
      "source": [
        "# TODO: Oversampling. You can use scikit-learn and imblearn libraries.\n",
        "from imblearn.over_sampling import RandomOverSampler\n",
        "\n",
        "X_resampled, y_resampled = RandomOverSampler(random_state=42).fit_resample(X, y)\n",
        "\n",
        "X_train, X_test, y_train, y_test = train_test_split(X_resampled, y_resampled, test_size=0.3, random_state=42)\n",
        "\n",
        "scaler = StandardScaler()\n",
        "X_train = scaler.fit_transform(X_train)\n",
        "X_test = scaler.transform(X_test)\n",
        "\n",
        "model = LogisticRegression(multi_class='multinomial')\n",
        "model.fit(X_train, y_train)\n",
        "\n",
        "y_pred = model.predict(X_test)\n",
        "  \n",
        "print(classification_report(y_test, y_pred))"
      ]
    },
    {
      "cell_type": "code",
      "execution_count": null,
      "metadata": {
        "id": "TuCBPbc5jHbl",
        "colab": {
          "base_uri": "https://localhost:8080/"
        },
        "outputId": "acad7052-020d-4da8-f320-b05edbbc0a84"
      },
      "outputs": [
        {
          "output_type": "stream",
          "name": "stdout",
          "text": [
            "              precision    recall  f1-score   support\n",
            "\n",
            "           0       0.71      0.71      0.71        28\n",
            "           1       0.73      0.73      0.73        30\n",
            "\n",
            "    accuracy                           0.72        58\n",
            "   macro avg       0.72      0.72      0.72        58\n",
            "weighted avg       0.72      0.72      0.72        58\n",
            "\n"
          ]
        }
      ],
      "source": [
        "# TODO: Undersampling. You can use scikit-learn and imblearn libraries.\n",
        "from imblearn.under_sampling import RandomUnderSampler\n",
        "\n",
        "X_resampled, y_resampled = RandomUnderSampler(random_state=42).fit_resample(X, y)\n",
        "\n",
        "\n",
        "X_train, X_test, y_train, y_test = train_test_split(X_resampled, y_resampled, test_size=0.3, random_state=42)\n",
        "\n",
        "scaler = StandardScaler()\n",
        "X_train = scaler.fit_transform(X_train)\n",
        "X_test = scaler.transform(X_test)\n",
        "\n",
        "model = LogisticRegression(multi_class='multinomial')\n",
        "model.fit(X_train, y_train)\n",
        "\n",
        "y_pred = model.predict(X_test)\n",
        "  \n",
        "print(classification_report(y_test, y_pred))"
      ]
    },
    {
      "cell_type": "markdown",
      "metadata": {
        "id": "h2wAUt_hjSzr"
      },
      "source": [
        "> What are the conclusions? (1-2 paragraphs)\n",
        "\n",
        "Devido ao modelo original apresentar recall muito baixo para uma das classes, podíamos imaginar que o modelo sofria por ter uma discrepância alta entre classes 0 e 1. \n",
        "\n",
        "Após ver os resultados do undersampling, pudemos notar que o problema do recall, foi amenizado, porém, no oversampling os resultados foram melhores. Ambas as abordagens são boas, pois a discrepância entre as classes não é tão grande assim, porém, nosso conjunto de dados não é muito grande. Portanto, devido a termos relativamente poucos dados, o melhor a se fazer realmente é o oversampling, mas tomando cuidado para não causar overfitting.\n",
        "\n"
      ]
    },
    {
      "cell_type": "markdown",
      "metadata": {
        "id": "8pNHeah9jK7f"
      },
      "source": [
        "4. (0.5 points) Pick **your best model** and plot the confusion matrix in the **test set**. \n"
      ]
    },
    {
      "cell_type": "code",
      "execution_count": null,
      "metadata": {
        "id": "bak1v-ikjImM",
        "colab": {
          "base_uri": "https://localhost:8080/",
          "height": 605
        },
        "outputId": "5a321093-e8e9-43f6-bb5a-78138d62c2d7"
      },
      "outputs": [
        {
          "output_type": "stream",
          "name": "stdout",
          "text": [
            "              precision    recall  f1-score   support\n",
            "\n",
            "           0       0.76      0.78      0.77        41\n",
            "           1       0.78      0.76      0.77        41\n",
            "\n",
            "    accuracy                           0.77        82\n",
            "   macro avg       0.77      0.77      0.77        82\n",
            "weighted avg       0.77      0.77      0.77        82\n",
            "\n"
          ]
        },
        {
          "output_type": "display_data",
          "data": {
            "text/plain": [
              "<Figure size 640x480 with 2 Axes>"
            ],
            "image/png": "[encoded data removed]"
          },
          "metadata": {}
        }
      ],
      "source": [
        "import seaborn as sn\n",
        "from sklearn.model_selection import GridSearchCV\n",
        "\n",
        "\n",
        "def plot_confusion_matrix(y, y_pred):\n",
        "    \"\"\"\n",
        "    This function receives a set of real labels y[i], a set\n",
        "    of predictions y_pred[i] and print on stdout the confusion\n",
        "    matrix for those values.\n",
        "    \"\"\"\n",
        "    data = {'y': y, 'y_pred': y_pred}\n",
        "    df = pd.DataFrame(data, columns=['y','y_pred'])\n",
        "    cm = pd.crosstab(df['y'], df['y_pred'], rownames=['Actual'], colnames=['Predicted'])\n",
        "    sn.heatmap(cm, annot=True)\n",
        "\n",
        "\n",
        "df = pd.read_csv('heart_dataset.csv', converters = {\"anaemia\" : (lambda x : 0 if x == \"No\" else 1),\"diabetes\": (lambda x : 0 if x == \"No\" else 1), \"sex\" : (lambda x : 0 if x == \"Female\" else 1), \"smoking\": (lambda x : 0 if x == \"No\" else 1) }, na_values=\"NA\")\n",
        "df.fillna(df.mean(), inplace=True)\n",
        "df.head(5)\n",
        "\n",
        "#removendo features pouco importantes\n",
        "cols_to_remove = [\"diabetes\", \"sex\", \"platelets\", \"smoking\"]\n",
        "df.drop(cols_to_remove, axis=1, inplace=True)\n",
        "\n",
        "\n",
        "X = df.drop('DEATH_EVENT', axis=1)\n",
        "y = df['DEATH_EVENT']\n",
        "\n",
        "# Cria conjunto de hiperparâmetros a serem testados\n",
        "param_grid = {'C': np.logspace(-5, 5, 11), 'penalty': ['l2']}\n",
        "\n",
        "\n",
        "#faz o oversampling dos dados\n",
        "X_resampled, y_resampled = RandomOverSampler(random_state=42).fit_resample(X, y)\n",
        "\n",
        "X_train, X_test, y_train, y_test = train_test_split(X_resampled, y_resampled, test_size=0.2, random_state=42)\n",
        "\n",
        "#normaliza os dados\n",
        "scaler = StandardScaler()\n",
        "X_train = scaler.fit_transform(X_train)\n",
        "X_test = scaler.transform(X_test)\n",
        "\n",
        "#tuna os hiperparametros da regressão logistica\n",
        "model = LogisticRegression(multi_class='multinomial')\n",
        "\n",
        "model_cv = GridSearchCV(model, param_grid, scoring='f1')\n",
        "\n",
        "model_cv.fit(X_train, y_train)\n",
        "\n",
        "model = LogisticRegression(**model_cv.best_params_)\n",
        "\n",
        "model.fit(X_train, y_train)\n",
        "\n",
        "\n",
        "y_pred = model.predict(X_test)\n",
        "  \n",
        "print(classification_report(y_test, y_pred))\n",
        "\n",
        "plot_confusion_matrix(y_test, y_pred)"
      ]
    },
    {
      "cell_type": "markdown",
      "metadata": {
        "id": "38HbjwZSjRf1"
      },
      "source": [
        "> What are the conclusions? (1-2 paragraphs)\n",
        "\n",
        "Durante a montagem deste melhor modelo, foi possível ver na prática o funcionamento dos diversos tipos de tratamento de dados que vimos em aula, como o feature selection, (mesmo que neste caso não estivesse ocorrendo overfitting), o oversampling devido a nosso conjunto de dados não estar balanceado, e a tunagem dos hiperparâmetros para a regressão logística.\n",
        "\n",
        "Porém, mesmo com todos esses cuidados, o resultado ainda não foi totalmente satisfatório, easdasdasd\n"
      ]
    },
    {
      "cell_type": "markdown",
      "metadata": {
        "id": "D2zOMBnKmK4-"
      },
      "source": [
        "## Deadline\n",
        "\n",
        "Wednesday, April 19, 11:59 pm. \n",
        "\n",
        "Penalty policy for late submission: You are not encouraged to submit your assignment after due date. However, in case you do, your grade will be penalized as follows:\n",
        "- April 20, 11:59 pm : grade * 0.75\n",
        "- April 21, 11:59 pm : grade * 0.5\n",
        "- April 22, 11:59 pm : grade * 0.25\n"
      ]
    },
    {
      "cell_type": "markdown",
      "metadata": {
        "id": "DK1R2Xfkmc6j"
      },
      "source": [
        "## Submission\n",
        "\n",
        "On Google Classroom, submit your Jupyter Notebook (in Portuguese or English).\n",
        "\n",
        "**This activity is NOT individual, it must be done in pairs (two-person group).**"
      ]
    }
  ],
  "metadata": {
    "colab": {
      "provenance": [],
      "collapsed_sections": [
        "LvrGLGqVXv8q"
      ],
      "include_colab_link": true
    },
    "kernelspec": {
      "display_name": "Python 3 (ipykernel)",
      "language": "python",
      "name": "python3"
    },
    "language_info": {
      "codemirror_mode": {
        "name": "ipython",
        "version": 3
      },
      "file_extension": ".py",
      "mimetype": "text/x-python",
      "name": "python",
      "nbconvert_exporter": "python",
      "pygments_lexer": "ipython3",
      "version": "3.10.4"
    }
  },
  "nbformat": 4,
  "nbformat_minor": 0
}